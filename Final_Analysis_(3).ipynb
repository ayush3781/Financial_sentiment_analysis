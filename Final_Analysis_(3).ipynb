{
  "nbformat": 4,
  "nbformat_minor": 0,
  "metadata": {
    "kernelspec": {
      "display_name": "Python 3",
      "language": "python",
      "name": "python3"
    },
    "language_info": {
      "codemirror_mode": {
        "name": "ipython",
        "version": 3
      },
      "file_extension": ".py",
      "mimetype": "text/x-python",
      "name": "python",
      "nbconvert_exporter": "python",
      "pygments_lexer": "ipython3",
      "version": "3.8.5"
    },
    "colab": {
      "name": "Final_Analysis (3).ipynb",
      "provenance": [],
      "toc_visible": true
    }
  },
  "cells": [
    {
      "cell_type": "code",
      "metadata": {
        "id": "vG-u9UjpGyW4"
      },
      "source": [
        "import numpy as np\n",
        "import pandas as pd\n",
        "import matplotlib.pyplot as plt\n",
        "import seaborn as sns\n",
        "import scipy as sp\n",
        "#!pip install tensorflow\n"
      ],
      "execution_count": null,
      "outputs": []
    },
    {
      "cell_type": "code",
      "metadata": {
        "id": "G_fE_4VPPBwW",
        "colab": {
          "base_uri": "https://localhost:8080/"
        },
        "outputId": "80c7ecde-aeff-4846-9c98-3a415fdcc28c"
      },
      "source": [
        "from google.colab import drive\n",
        "drive.mount('/content/drive')"
      ],
      "execution_count": null,
      "outputs": [
        {
          "output_type": "stream",
          "name": "stdout",
          "text": [
            "Drive already mounted at /content/drive; to attempt to forcibly remount, call drive.mount(\"/content/drive\", force_remount=True).\n"
          ]
        }
      ]
    },
    {
      "cell_type": "markdown",
      "metadata": {
        "id": "KSmJR9i2GyW7"
      },
      "source": [
        "# DATA IMPORT"
      ]
    },
    {
      "cell_type": "code",
      "metadata": {
        "id": "HzPUCThzGyW9"
      },
      "source": [
        "import tensorflow as tf"
      ],
      "execution_count": null,
      "outputs": []
    },
    {
      "cell_type": "code",
      "metadata": {
        "id": "aZOUMIyQGyW9",
        "colab": {
          "base_uri": "https://localhost:8080/"
        },
        "outputId": "a665cf90-0357-4d26-c907-03f393b03515"
      },
      "source": [
        "\n",
        "file=\"all-data.csv\"\n",
        "\n",
        "# Detect encoding\n",
        "import chardet\n",
        "with open(file, 'rb') as rawdata:\n",
        "    result = chardet.detect(rawdata.read(100000))\n",
        "result"
      ],
      "execution_count": null,
      "outputs": [
        {
          "output_type": "execute_result",
          "data": {
            "text/plain": [
              "{'confidence': 0.73, 'encoding': 'Windows-1252', 'language': ''}"
            ]
          },
          "metadata": {},
          "execution_count": 9
        }
      ]
    },
    {
      "cell_type": "code",
      "metadata": {
        "id": "XsRw-OWFOfoV"
      },
      "source": [
        ""
      ],
      "execution_count": null,
      "outputs": []
    },
    {
      "cell_type": "code",
      "metadata": {
        "id": "EQE-Cc8yGyW-"
      },
      "source": [
        "df=pd.read_csv(file,encoding='Windows-1252',header=None)"
      ],
      "execution_count": null,
      "outputs": []
    },
    {
      "cell_type": "code",
      "metadata": {
        "id": "etBfWEm7GyW_",
        "outputId": "5a2ee55f-f951-4319-df04-b7caa487d8e9"
      },
      "source": [
        "df.head()"
      ],
      "execution_count": null,
      "outputs": [
        {
          "data": {
            "text/html": [
              "<div>\n",
              "<style scoped>\n",
              "    .dataframe tbody tr th:only-of-type {\n",
              "        vertical-align: middle;\n",
              "    }\n",
              "\n",
              "    .dataframe tbody tr th {\n",
              "        vertical-align: top;\n",
              "    }\n",
              "\n",
              "    .dataframe thead th {\n",
              "        text-align: right;\n",
              "    }\n",
              "</style>\n",
              "<table border=\"1\" class=\"dataframe\">\n",
              "  <thead>\n",
              "    <tr style=\"text-align: right;\">\n",
              "      <th></th>\n",
              "      <th>0</th>\n",
              "      <th>1</th>\n",
              "    </tr>\n",
              "  </thead>\n",
              "  <tbody>\n",
              "    <tr>\n",
              "      <th>0</th>\n",
              "      <td>neutral</td>\n",
              "      <td>According to Gran , the company has no plans t...</td>\n",
              "    </tr>\n",
              "    <tr>\n",
              "      <th>1</th>\n",
              "      <td>neutral</td>\n",
              "      <td>Technopolis plans to develop in stages an area...</td>\n",
              "    </tr>\n",
              "    <tr>\n",
              "      <th>2</th>\n",
              "      <td>negative</td>\n",
              "      <td>The international electronic industry company ...</td>\n",
              "    </tr>\n",
              "    <tr>\n",
              "      <th>3</th>\n",
              "      <td>positive</td>\n",
              "      <td>With the new production plant the company woul...</td>\n",
              "    </tr>\n",
              "    <tr>\n",
              "      <th>4</th>\n",
              "      <td>positive</td>\n",
              "      <td>According to the company 's updated strategy f...</td>\n",
              "    </tr>\n",
              "  </tbody>\n",
              "</table>\n",
              "</div>"
            ],
            "text/plain": [
              "          0                                                  1\n",
              "0   neutral  According to Gran , the company has no plans t...\n",
              "1   neutral  Technopolis plans to develop in stages an area...\n",
              "2  negative  The international electronic industry company ...\n",
              "3  positive  With the new production plant the company woul...\n",
              "4  positive  According to the company 's updated strategy f..."
            ]
          },
          "execution_count": 6,
          "metadata": {},
          "output_type": "execute_result"
        }
      ]
    },
    {
      "cell_type": "code",
      "metadata": {
        "id": "_bJ9HQn-GyW_"
      },
      "source": [
        "mycolumns = ['Sentiment','Sentence']\n",
        "\n",
        "df.columns=mycolumns"
      ],
      "execution_count": null,
      "outputs": []
    },
    {
      "cell_type": "code",
      "metadata": {
        "id": "BkSFnqWSGyXA"
      },
      "source": [
        "pf=df[['Sentence','Sentiment']]"
      ],
      "execution_count": null,
      "outputs": []
    },
    {
      "cell_type": "code",
      "metadata": {
        "id": "hh6IprtZGyXA",
        "colab": {
          "base_uri": "https://localhost:8080/",
          "height": 206
        },
        "outputId": "037120ce-a1f4-4dd7-a423-f5d7f4c7ea7e"
      },
      "source": [
        "pf.head()"
      ],
      "execution_count": null,
      "outputs": [
        {
          "output_type": "execute_result",
          "data": {
            "text/html": [
              "<div>\n",
              "<style scoped>\n",
              "    .dataframe tbody tr th:only-of-type {\n",
              "        vertical-align: middle;\n",
              "    }\n",
              "\n",
              "    .dataframe tbody tr th {\n",
              "        vertical-align: top;\n",
              "    }\n",
              "\n",
              "    .dataframe thead th {\n",
              "        text-align: right;\n",
              "    }\n",
              "</style>\n",
              "<table border=\"1\" class=\"dataframe\">\n",
              "  <thead>\n",
              "    <tr style=\"text-align: right;\">\n",
              "      <th></th>\n",
              "      <th>Sentence</th>\n",
              "      <th>Sentiment</th>\n",
              "    </tr>\n",
              "  </thead>\n",
              "  <tbody>\n",
              "    <tr>\n",
              "      <th>0</th>\n",
              "      <td>According to Gran , the company has no plans t...</td>\n",
              "      <td>neutral</td>\n",
              "    </tr>\n",
              "    <tr>\n",
              "      <th>1</th>\n",
              "      <td>Technopolis plans to develop in stages an area...</td>\n",
              "      <td>neutral</td>\n",
              "    </tr>\n",
              "    <tr>\n",
              "      <th>2</th>\n",
              "      <td>The international electronic industry company ...</td>\n",
              "      <td>negative</td>\n",
              "    </tr>\n",
              "    <tr>\n",
              "      <th>3</th>\n",
              "      <td>With the new production plant the company woul...</td>\n",
              "      <td>positive</td>\n",
              "    </tr>\n",
              "    <tr>\n",
              "      <th>4</th>\n",
              "      <td>According to the company 's updated strategy f...</td>\n",
              "      <td>positive</td>\n",
              "    </tr>\n",
              "  </tbody>\n",
              "</table>\n",
              "</div>"
            ],
            "text/plain": [
              "                                            Sentence Sentiment\n",
              "0  According to Gran , the company has no plans t...   neutral\n",
              "1  Technopolis plans to develop in stages an area...   neutral\n",
              "2  The international electronic industry company ...  negative\n",
              "3  With the new production plant the company woul...  positive\n",
              "4  According to the company 's updated strategy f...  positive"
            ]
          },
          "metadata": {},
          "execution_count": 13
        }
      ]
    },
    {
      "cell_type": "markdown",
      "metadata": {
        "id": "F21Jbx-kGyXB"
      },
      "source": [
        "# DATA PREPARATION"
      ]
    },
    {
      "cell_type": "code",
      "metadata": {
        "id": "l3waxfRbGyXB"
      },
      "source": [
        " pf['Sentence']=pf[\"Sentence\"].str.lower()"
      ],
      "execution_count": null,
      "outputs": []
    },
    {
      "cell_type": "code",
      "metadata": {
        "id": "YnKw8PPUGyXC"
      },
      "source": [
        "pf['Sentiments'] = pf['Sentiment'].map({'neutral':0,'positive':1,'negative':-1})"
      ],
      "execution_count": null,
      "outputs": []
    },
    {
      "cell_type": "markdown",
      "metadata": {
        "id": "Clca6OhjGyXC"
      },
      "source": [
        "# TF-IDF IMPLEMENTATION"
      ]
    },
    {
      "cell_type": "code",
      "metadata": {
        "id": "ecqzRELWGyXC"
      },
      "source": [
        "from sklearn.feature_extraction.text import TfidfVectorizer\n",
        "\n",
        "vectorizer = TfidfVectorizer()\n",
        "\n",
        "analyze = vectorizer.build_analyzer()"
      ],
      "execution_count": null,
      "outputs": []
    },
    {
      "cell_type": "code",
      "metadata": {
        "id": "2R8lRO-HGyXC"
      },
      "source": [
        "vectorizer.fit(pf[\"Sentence\"])\n",
        "\n",
        "features=vectorizer.transform(pf[\"Sentence\"])\n",
        "\n",
        "final=pd.DataFrame(features.todense(), columns = vectorizer.get_feature_names())\n",
        "\n",
        "final['Sentiment']=pf['Sentiments']"
      ],
      "execution_count": null,
      "outputs": []
    },
    {
      "cell_type": "code",
      "metadata": {
        "id": "0JCNRTvDGyXD",
        "colab": {
          "base_uri": "https://localhost:8080/",
          "height": 255
        },
        "outputId": "131e60fd-a2a0-40f3-ed4a-d06fe3bb3ed4"
      },
      "source": [
        "final.head()"
      ],
      "execution_count": null,
      "outputs": [
        {
          "output_type": "execute_result",
          "data": {
            "text/html": [
              "<div>\n",
              "<style scoped>\n",
              "    .dataframe tbody tr th:only-of-type {\n",
              "        vertical-align: middle;\n",
              "    }\n",
              "\n",
              "    .dataframe tbody tr th {\n",
              "        vertical-align: top;\n",
              "    }\n",
              "\n",
              "    .dataframe thead th {\n",
              "        text-align: right;\n",
              "    }\n",
              "</style>\n",
              "<table border=\"1\" class=\"dataframe\">\n",
              "  <thead>\n",
              "    <tr style=\"text-align: right;\">\n",
              "      <th></th>\n",
              "      <th>00</th>\n",
              "      <th>000</th>\n",
              "      <th>000063</th>\n",
              "      <th>002</th>\n",
              "      <th>0025</th>\n",
              "      <th>003</th>\n",
              "      <th>0030</th>\n",
              "      <th>007</th>\n",
              "      <th>008</th>\n",
              "      <th>01</th>\n",
              "      <th>0101138</th>\n",
              "      <th>012</th>\n",
              "      <th>0187274</th>\n",
              "      <th>019</th>\n",
              "      <th>02</th>\n",
              "      <th>023</th>\n",
              "      <th>027</th>\n",
              "      <th>029</th>\n",
              "      <th>03</th>\n",
              "      <th>030</th>\n",
              "      <th>031</th>\n",
              "      <th>035</th>\n",
              "      <th>04</th>\n",
              "      <th>045</th>\n",
              "      <th>046</th>\n",
              "      <th>047</th>\n",
              "      <th>0491</th>\n",
              "      <th>05</th>\n",
              "      <th>050</th>\n",
              "      <th>052</th>\n",
              "      <th>06</th>\n",
              "      <th>060</th>\n",
              "      <th>063</th>\n",
              "      <th>064</th>\n",
              "      <th>067</th>\n",
              "      <th>07</th>\n",
              "      <th>070</th>\n",
              "      <th>0711</th>\n",
              "      <th>0762</th>\n",
              "      <th>08</th>\n",
              "      <th>...</th>\n",
              "      <th>zao</th>\n",
              "      <th>zapadnye</th>\n",
              "      <th>zealand</th>\n",
              "      <th>zepro</th>\n",
              "      <th>zero</th>\n",
              "      <th>zgody</th>\n",
              "      <th>zinc</th>\n",
              "      <th>zip</th>\n",
              "      <th>zloty</th>\n",
              "      <th>zoltan</th>\n",
              "      <th>zone</th>\n",
              "      <th>zoo</th>\n",
              "      <th>zte</th>\n",
              "      <th>zu</th>\n",
              "      <th>æhikauppa</th>\n",
              "      <th>æhivakuutus</th>\n",
              "      <th>æinen</th>\n",
              "      <th>æjoki</th>\n",
              "      <th>ækel</th>\n",
              "      <th>æki</th>\n",
              "      <th>æl</th>\n",
              "      <th>æliitto</th>\n",
              "      <th>ælt</th>\n",
              "      <th>æmeri</th>\n",
              "      <th>æn</th>\n",
              "      <th>ænekoski</th>\n",
              "      <th>ænen</th>\n",
              "      <th>ænge</th>\n",
              "      <th>ænnen</th>\n",
              "      <th>ænsi</th>\n",
              "      <th>ærnits</th>\n",
              "      <th>ærtsil</th>\n",
              "      <th>ærvi</th>\n",
              "      <th>ærvinen</th>\n",
              "      <th>æsein</th>\n",
              "      <th>æskyl</th>\n",
              "      <th>ætehuolto</th>\n",
              "      <th>ðl</th>\n",
              "      <th>ˆeur</th>\n",
              "      <th>Sentiment</th>\n",
              "    </tr>\n",
              "  </thead>\n",
              "  <tbody>\n",
              "    <tr>\n",
              "      <th>0</th>\n",
              "      <td>0.0</td>\n",
              "      <td>0.000000</td>\n",
              "      <td>0.0</td>\n",
              "      <td>0.0</td>\n",
              "      <td>0.0</td>\n",
              "      <td>0.0</td>\n",
              "      <td>0.0</td>\n",
              "      <td>0.0</td>\n",
              "      <td>0.0</td>\n",
              "      <td>0.0</td>\n",
              "      <td>0.0</td>\n",
              "      <td>0.0</td>\n",
              "      <td>0.0</td>\n",
              "      <td>0.0</td>\n",
              "      <td>0.0</td>\n",
              "      <td>0.0</td>\n",
              "      <td>0.0</td>\n",
              "      <td>0.0</td>\n",
              "      <td>0.0</td>\n",
              "      <td>0.0</td>\n",
              "      <td>0.0</td>\n",
              "      <td>0.0</td>\n",
              "      <td>0.0</td>\n",
              "      <td>0.0</td>\n",
              "      <td>0.0</td>\n",
              "      <td>0.0</td>\n",
              "      <td>0.0</td>\n",
              "      <td>0.0</td>\n",
              "      <td>0.0</td>\n",
              "      <td>0.0</td>\n",
              "      <td>0.0</td>\n",
              "      <td>0.0</td>\n",
              "      <td>0.0</td>\n",
              "      <td>0.0</td>\n",
              "      <td>0.0</td>\n",
              "      <td>0.0</td>\n",
              "      <td>0.0</td>\n",
              "      <td>0.0</td>\n",
              "      <td>0.0</td>\n",
              "      <td>0.0</td>\n",
              "      <td>...</td>\n",
              "      <td>0.0</td>\n",
              "      <td>0.0</td>\n",
              "      <td>0.0</td>\n",
              "      <td>0.0</td>\n",
              "      <td>0.0</td>\n",
              "      <td>0.0</td>\n",
              "      <td>0.0</td>\n",
              "      <td>0.0</td>\n",
              "      <td>0.0</td>\n",
              "      <td>0.0</td>\n",
              "      <td>0.0</td>\n",
              "      <td>0.0</td>\n",
              "      <td>0.0</td>\n",
              "      <td>0.0</td>\n",
              "      <td>0.0</td>\n",
              "      <td>0.0</td>\n",
              "      <td>0.0</td>\n",
              "      <td>0.0</td>\n",
              "      <td>0.0</td>\n",
              "      <td>0.0</td>\n",
              "      <td>0.0</td>\n",
              "      <td>0.0</td>\n",
              "      <td>0.0</td>\n",
              "      <td>0.0</td>\n",
              "      <td>0.0</td>\n",
              "      <td>0.0</td>\n",
              "      <td>0.0</td>\n",
              "      <td>0.0</td>\n",
              "      <td>0.0</td>\n",
              "      <td>0.0</td>\n",
              "      <td>0.0</td>\n",
              "      <td>0.0</td>\n",
              "      <td>0.0</td>\n",
              "      <td>0.0</td>\n",
              "      <td>0.0</td>\n",
              "      <td>0.0</td>\n",
              "      <td>0.0</td>\n",
              "      <td>0.0</td>\n",
              "      <td>0.0</td>\n",
              "      <td>0</td>\n",
              "    </tr>\n",
              "    <tr>\n",
              "      <th>1</th>\n",
              "      <td>0.0</td>\n",
              "      <td>0.147059</td>\n",
              "      <td>0.0</td>\n",
              "      <td>0.0</td>\n",
              "      <td>0.0</td>\n",
              "      <td>0.0</td>\n",
              "      <td>0.0</td>\n",
              "      <td>0.0</td>\n",
              "      <td>0.0</td>\n",
              "      <td>0.0</td>\n",
              "      <td>0.0</td>\n",
              "      <td>0.0</td>\n",
              "      <td>0.0</td>\n",
              "      <td>0.0</td>\n",
              "      <td>0.0</td>\n",
              "      <td>0.0</td>\n",
              "      <td>0.0</td>\n",
              "      <td>0.0</td>\n",
              "      <td>0.0</td>\n",
              "      <td>0.0</td>\n",
              "      <td>0.0</td>\n",
              "      <td>0.0</td>\n",
              "      <td>0.0</td>\n",
              "      <td>0.0</td>\n",
              "      <td>0.0</td>\n",
              "      <td>0.0</td>\n",
              "      <td>0.0</td>\n",
              "      <td>0.0</td>\n",
              "      <td>0.0</td>\n",
              "      <td>0.0</td>\n",
              "      <td>0.0</td>\n",
              "      <td>0.0</td>\n",
              "      <td>0.0</td>\n",
              "      <td>0.0</td>\n",
              "      <td>0.0</td>\n",
              "      <td>0.0</td>\n",
              "      <td>0.0</td>\n",
              "      <td>0.0</td>\n",
              "      <td>0.0</td>\n",
              "      <td>0.0</td>\n",
              "      <td>...</td>\n",
              "      <td>0.0</td>\n",
              "      <td>0.0</td>\n",
              "      <td>0.0</td>\n",
              "      <td>0.0</td>\n",
              "      <td>0.0</td>\n",
              "      <td>0.0</td>\n",
              "      <td>0.0</td>\n",
              "      <td>0.0</td>\n",
              "      <td>0.0</td>\n",
              "      <td>0.0</td>\n",
              "      <td>0.0</td>\n",
              "      <td>0.0</td>\n",
              "      <td>0.0</td>\n",
              "      <td>0.0</td>\n",
              "      <td>0.0</td>\n",
              "      <td>0.0</td>\n",
              "      <td>0.0</td>\n",
              "      <td>0.0</td>\n",
              "      <td>0.0</td>\n",
              "      <td>0.0</td>\n",
              "      <td>0.0</td>\n",
              "      <td>0.0</td>\n",
              "      <td>0.0</td>\n",
              "      <td>0.0</td>\n",
              "      <td>0.0</td>\n",
              "      <td>0.0</td>\n",
              "      <td>0.0</td>\n",
              "      <td>0.0</td>\n",
              "      <td>0.0</td>\n",
              "      <td>0.0</td>\n",
              "      <td>0.0</td>\n",
              "      <td>0.0</td>\n",
              "      <td>0.0</td>\n",
              "      <td>0.0</td>\n",
              "      <td>0.0</td>\n",
              "      <td>0.0</td>\n",
              "      <td>0.0</td>\n",
              "      <td>0.0</td>\n",
              "      <td>0.0</td>\n",
              "      <td>0</td>\n",
              "    </tr>\n",
              "    <tr>\n",
              "      <th>2</th>\n",
              "      <td>0.0</td>\n",
              "      <td>0.000000</td>\n",
              "      <td>0.0</td>\n",
              "      <td>0.0</td>\n",
              "      <td>0.0</td>\n",
              "      <td>0.0</td>\n",
              "      <td>0.0</td>\n",
              "      <td>0.0</td>\n",
              "      <td>0.0</td>\n",
              "      <td>0.0</td>\n",
              "      <td>0.0</td>\n",
              "      <td>0.0</td>\n",
              "      <td>0.0</td>\n",
              "      <td>0.0</td>\n",
              "      <td>0.0</td>\n",
              "      <td>0.0</td>\n",
              "      <td>0.0</td>\n",
              "      <td>0.0</td>\n",
              "      <td>0.0</td>\n",
              "      <td>0.0</td>\n",
              "      <td>0.0</td>\n",
              "      <td>0.0</td>\n",
              "      <td>0.0</td>\n",
              "      <td>0.0</td>\n",
              "      <td>0.0</td>\n",
              "      <td>0.0</td>\n",
              "      <td>0.0</td>\n",
              "      <td>0.0</td>\n",
              "      <td>0.0</td>\n",
              "      <td>0.0</td>\n",
              "      <td>0.0</td>\n",
              "      <td>0.0</td>\n",
              "      <td>0.0</td>\n",
              "      <td>0.0</td>\n",
              "      <td>0.0</td>\n",
              "      <td>0.0</td>\n",
              "      <td>0.0</td>\n",
              "      <td>0.0</td>\n",
              "      <td>0.0</td>\n",
              "      <td>0.0</td>\n",
              "      <td>...</td>\n",
              "      <td>0.0</td>\n",
              "      <td>0.0</td>\n",
              "      <td>0.0</td>\n",
              "      <td>0.0</td>\n",
              "      <td>0.0</td>\n",
              "      <td>0.0</td>\n",
              "      <td>0.0</td>\n",
              "      <td>0.0</td>\n",
              "      <td>0.0</td>\n",
              "      <td>0.0</td>\n",
              "      <td>0.0</td>\n",
              "      <td>0.0</td>\n",
              "      <td>0.0</td>\n",
              "      <td>0.0</td>\n",
              "      <td>0.0</td>\n",
              "      <td>0.0</td>\n",
              "      <td>0.0</td>\n",
              "      <td>0.0</td>\n",
              "      <td>0.0</td>\n",
              "      <td>0.0</td>\n",
              "      <td>0.0</td>\n",
              "      <td>0.0</td>\n",
              "      <td>0.0</td>\n",
              "      <td>0.0</td>\n",
              "      <td>0.0</td>\n",
              "      <td>0.0</td>\n",
              "      <td>0.0</td>\n",
              "      <td>0.0</td>\n",
              "      <td>0.0</td>\n",
              "      <td>0.0</td>\n",
              "      <td>0.0</td>\n",
              "      <td>0.0</td>\n",
              "      <td>0.0</td>\n",
              "      <td>0.0</td>\n",
              "      <td>0.0</td>\n",
              "      <td>0.0</td>\n",
              "      <td>0.0</td>\n",
              "      <td>0.0</td>\n",
              "      <td>0.0</td>\n",
              "      <td>-1</td>\n",
              "    </tr>\n",
              "    <tr>\n",
              "      <th>3</th>\n",
              "      <td>0.0</td>\n",
              "      <td>0.000000</td>\n",
              "      <td>0.0</td>\n",
              "      <td>0.0</td>\n",
              "      <td>0.0</td>\n",
              "      <td>0.0</td>\n",
              "      <td>0.0</td>\n",
              "      <td>0.0</td>\n",
              "      <td>0.0</td>\n",
              "      <td>0.0</td>\n",
              "      <td>0.0</td>\n",
              "      <td>0.0</td>\n",
              "      <td>0.0</td>\n",
              "      <td>0.0</td>\n",
              "      <td>0.0</td>\n",
              "      <td>0.0</td>\n",
              "      <td>0.0</td>\n",
              "      <td>0.0</td>\n",
              "      <td>0.0</td>\n",
              "      <td>0.0</td>\n",
              "      <td>0.0</td>\n",
              "      <td>0.0</td>\n",
              "      <td>0.0</td>\n",
              "      <td>0.0</td>\n",
              "      <td>0.0</td>\n",
              "      <td>0.0</td>\n",
              "      <td>0.0</td>\n",
              "      <td>0.0</td>\n",
              "      <td>0.0</td>\n",
              "      <td>0.0</td>\n",
              "      <td>0.0</td>\n",
              "      <td>0.0</td>\n",
              "      <td>0.0</td>\n",
              "      <td>0.0</td>\n",
              "      <td>0.0</td>\n",
              "      <td>0.0</td>\n",
              "      <td>0.0</td>\n",
              "      <td>0.0</td>\n",
              "      <td>0.0</td>\n",
              "      <td>0.0</td>\n",
              "      <td>...</td>\n",
              "      <td>0.0</td>\n",
              "      <td>0.0</td>\n",
              "      <td>0.0</td>\n",
              "      <td>0.0</td>\n",
              "      <td>0.0</td>\n",
              "      <td>0.0</td>\n",
              "      <td>0.0</td>\n",
              "      <td>0.0</td>\n",
              "      <td>0.0</td>\n",
              "      <td>0.0</td>\n",
              "      <td>0.0</td>\n",
              "      <td>0.0</td>\n",
              "      <td>0.0</td>\n",
              "      <td>0.0</td>\n",
              "      <td>0.0</td>\n",
              "      <td>0.0</td>\n",
              "      <td>0.0</td>\n",
              "      <td>0.0</td>\n",
              "      <td>0.0</td>\n",
              "      <td>0.0</td>\n",
              "      <td>0.0</td>\n",
              "      <td>0.0</td>\n",
              "      <td>0.0</td>\n",
              "      <td>0.0</td>\n",
              "      <td>0.0</td>\n",
              "      <td>0.0</td>\n",
              "      <td>0.0</td>\n",
              "      <td>0.0</td>\n",
              "      <td>0.0</td>\n",
              "      <td>0.0</td>\n",
              "      <td>0.0</td>\n",
              "      <td>0.0</td>\n",
              "      <td>0.0</td>\n",
              "      <td>0.0</td>\n",
              "      <td>0.0</td>\n",
              "      <td>0.0</td>\n",
              "      <td>0.0</td>\n",
              "      <td>0.0</td>\n",
              "      <td>0.0</td>\n",
              "      <td>1</td>\n",
              "    </tr>\n",
              "    <tr>\n",
              "      <th>4</th>\n",
              "      <td>0.0</td>\n",
              "      <td>0.000000</td>\n",
              "      <td>0.0</td>\n",
              "      <td>0.0</td>\n",
              "      <td>0.0</td>\n",
              "      <td>0.0</td>\n",
              "      <td>0.0</td>\n",
              "      <td>0.0</td>\n",
              "      <td>0.0</td>\n",
              "      <td>0.0</td>\n",
              "      <td>0.0</td>\n",
              "      <td>0.0</td>\n",
              "      <td>0.0</td>\n",
              "      <td>0.0</td>\n",
              "      <td>0.0</td>\n",
              "      <td>0.0</td>\n",
              "      <td>0.0</td>\n",
              "      <td>0.0</td>\n",
              "      <td>0.0</td>\n",
              "      <td>0.0</td>\n",
              "      <td>0.0</td>\n",
              "      <td>0.0</td>\n",
              "      <td>0.0</td>\n",
              "      <td>0.0</td>\n",
              "      <td>0.0</td>\n",
              "      <td>0.0</td>\n",
              "      <td>0.0</td>\n",
              "      <td>0.0</td>\n",
              "      <td>0.0</td>\n",
              "      <td>0.0</td>\n",
              "      <td>0.0</td>\n",
              "      <td>0.0</td>\n",
              "      <td>0.0</td>\n",
              "      <td>0.0</td>\n",
              "      <td>0.0</td>\n",
              "      <td>0.0</td>\n",
              "      <td>0.0</td>\n",
              "      <td>0.0</td>\n",
              "      <td>0.0</td>\n",
              "      <td>0.0</td>\n",
              "      <td>...</td>\n",
              "      <td>0.0</td>\n",
              "      <td>0.0</td>\n",
              "      <td>0.0</td>\n",
              "      <td>0.0</td>\n",
              "      <td>0.0</td>\n",
              "      <td>0.0</td>\n",
              "      <td>0.0</td>\n",
              "      <td>0.0</td>\n",
              "      <td>0.0</td>\n",
              "      <td>0.0</td>\n",
              "      <td>0.0</td>\n",
              "      <td>0.0</td>\n",
              "      <td>0.0</td>\n",
              "      <td>0.0</td>\n",
              "      <td>0.0</td>\n",
              "      <td>0.0</td>\n",
              "      <td>0.0</td>\n",
              "      <td>0.0</td>\n",
              "      <td>0.0</td>\n",
              "      <td>0.0</td>\n",
              "      <td>0.0</td>\n",
              "      <td>0.0</td>\n",
              "      <td>0.0</td>\n",
              "      <td>0.0</td>\n",
              "      <td>0.0</td>\n",
              "      <td>0.0</td>\n",
              "      <td>0.0</td>\n",
              "      <td>0.0</td>\n",
              "      <td>0.0</td>\n",
              "      <td>0.0</td>\n",
              "      <td>0.0</td>\n",
              "      <td>0.0</td>\n",
              "      <td>0.0</td>\n",
              "      <td>0.0</td>\n",
              "      <td>0.0</td>\n",
              "      <td>0.0</td>\n",
              "      <td>0.0</td>\n",
              "      <td>0.0</td>\n",
              "      <td>0.0</td>\n",
              "      <td>1</td>\n",
              "    </tr>\n",
              "  </tbody>\n",
              "</table>\n",
              "<p>5 rows × 10072 columns</p>\n",
              "</div>"
            ],
            "text/plain": [
              "    00       000  000063  002  0025  ...  æskyl  ætehuolto   ðl  ˆeur  Sentiment\n",
              "0  0.0  0.000000     0.0  0.0   0.0  ...    0.0        0.0  0.0   0.0          0\n",
              "1  0.0  0.147059     0.0  0.0   0.0  ...    0.0        0.0  0.0   0.0          0\n",
              "2  0.0  0.000000     0.0  0.0   0.0  ...    0.0        0.0  0.0   0.0         -1\n",
              "3  0.0  0.000000     0.0  0.0   0.0  ...    0.0        0.0  0.0   0.0          1\n",
              "4  0.0  0.000000     0.0  0.0   0.0  ...    0.0        0.0  0.0   0.0          1\n",
              "\n",
              "[5 rows x 10072 columns]"
            ]
          },
          "metadata": {},
          "execution_count": 18
        }
      ]
    },
    {
      "cell_type": "code",
      "metadata": {
        "id": "U7nqw4FeGyXD",
        "colab": {
          "base_uri": "https://localhost:8080/",
          "height": 349
        },
        "outputId": "56338745-3bba-43d3-efe4-50cf48ba3fb1"
      },
      "source": [
        "final.describe()"
      ],
      "execution_count": null,
      "outputs": [
        {
          "output_type": "execute_result",
          "data": {
            "text/html": [
              "<div>\n",
              "<style scoped>\n",
              "    .dataframe tbody tr th:only-of-type {\n",
              "        vertical-align: middle;\n",
              "    }\n",
              "\n",
              "    .dataframe tbody tr th {\n",
              "        vertical-align: top;\n",
              "    }\n",
              "\n",
              "    .dataframe thead th {\n",
              "        text-align: right;\n",
              "    }\n",
              "</style>\n",
              "<table border=\"1\" class=\"dataframe\">\n",
              "  <thead>\n",
              "    <tr style=\"text-align: right;\">\n",
              "      <th></th>\n",
              "      <th>00</th>\n",
              "      <th>000</th>\n",
              "      <th>000063</th>\n",
              "      <th>002</th>\n",
              "      <th>0025</th>\n",
              "      <th>003</th>\n",
              "      <th>0030</th>\n",
              "      <th>007</th>\n",
              "      <th>008</th>\n",
              "      <th>01</th>\n",
              "      <th>0101138</th>\n",
              "      <th>012</th>\n",
              "      <th>0187274</th>\n",
              "      <th>019</th>\n",
              "      <th>02</th>\n",
              "      <th>023</th>\n",
              "      <th>027</th>\n",
              "      <th>029</th>\n",
              "      <th>03</th>\n",
              "      <th>030</th>\n",
              "      <th>031</th>\n",
              "      <th>035</th>\n",
              "      <th>04</th>\n",
              "      <th>045</th>\n",
              "      <th>046</th>\n",
              "      <th>047</th>\n",
              "      <th>0491</th>\n",
              "      <th>05</th>\n",
              "      <th>050</th>\n",
              "      <th>052</th>\n",
              "      <th>06</th>\n",
              "      <th>060</th>\n",
              "      <th>063</th>\n",
              "      <th>064</th>\n",
              "      <th>067</th>\n",
              "      <th>07</th>\n",
              "      <th>070</th>\n",
              "      <th>0711</th>\n",
              "      <th>0762</th>\n",
              "      <th>08</th>\n",
              "      <th>...</th>\n",
              "      <th>zao</th>\n",
              "      <th>zapadnye</th>\n",
              "      <th>zealand</th>\n",
              "      <th>zepro</th>\n",
              "      <th>zero</th>\n",
              "      <th>zgody</th>\n",
              "      <th>zinc</th>\n",
              "      <th>zip</th>\n",
              "      <th>zloty</th>\n",
              "      <th>zoltan</th>\n",
              "      <th>zone</th>\n",
              "      <th>zoo</th>\n",
              "      <th>zte</th>\n",
              "      <th>zu</th>\n",
              "      <th>æhikauppa</th>\n",
              "      <th>æhivakuutus</th>\n",
              "      <th>æinen</th>\n",
              "      <th>æjoki</th>\n",
              "      <th>ækel</th>\n",
              "      <th>æki</th>\n",
              "      <th>æl</th>\n",
              "      <th>æliitto</th>\n",
              "      <th>ælt</th>\n",
              "      <th>æmeri</th>\n",
              "      <th>æn</th>\n",
              "      <th>ænekoski</th>\n",
              "      <th>ænen</th>\n",
              "      <th>ænge</th>\n",
              "      <th>ænnen</th>\n",
              "      <th>ænsi</th>\n",
              "      <th>ærnits</th>\n",
              "      <th>ærtsil</th>\n",
              "      <th>ærvi</th>\n",
              "      <th>ærvinen</th>\n",
              "      <th>æsein</th>\n",
              "      <th>æskyl</th>\n",
              "      <th>ætehuolto</th>\n",
              "      <th>ðl</th>\n",
              "      <th>ˆeur</th>\n",
              "      <th>Sentiment</th>\n",
              "    </tr>\n",
              "  </thead>\n",
              "  <tbody>\n",
              "    <tr>\n",
              "      <th>count</th>\n",
              "      <td>4846.000000</td>\n",
              "      <td>4846.000000</td>\n",
              "      <td>4846.000000</td>\n",
              "      <td>4846.000000</td>\n",
              "      <td>4846.000000</td>\n",
              "      <td>4846.000000</td>\n",
              "      <td>4846.000000</td>\n",
              "      <td>4846.000000</td>\n",
              "      <td>4846.000000</td>\n",
              "      <td>4846.000000</td>\n",
              "      <td>4846.000000</td>\n",
              "      <td>4846.000000</td>\n",
              "      <td>4846.000000</td>\n",
              "      <td>4846.000000</td>\n",
              "      <td>4846.000000</td>\n",
              "      <td>4846.000000</td>\n",
              "      <td>4846.000000</td>\n",
              "      <td>4846.000000</td>\n",
              "      <td>4846.000000</td>\n",
              "      <td>4846.000000</td>\n",
              "      <td>4846.000000</td>\n",
              "      <td>4846.000000</td>\n",
              "      <td>4846.000000</td>\n",
              "      <td>4846.000000</td>\n",
              "      <td>4846.000000</td>\n",
              "      <td>4846.000000</td>\n",
              "      <td>4846.000000</td>\n",
              "      <td>4846.000000</td>\n",
              "      <td>4846.000000</td>\n",
              "      <td>4846.000000</td>\n",
              "      <td>4846.000000</td>\n",
              "      <td>4846.000000</td>\n",
              "      <td>4846.000000</td>\n",
              "      <td>4846.000000</td>\n",
              "      <td>4846.000000</td>\n",
              "      <td>4846.000000</td>\n",
              "      <td>4846.000000</td>\n",
              "      <td>4846.000000</td>\n",
              "      <td>4846.000000</td>\n",
              "      <td>4846.000000</td>\n",
              "      <td>...</td>\n",
              "      <td>4846.000000</td>\n",
              "      <td>4846.000000</td>\n",
              "      <td>4846.000000</td>\n",
              "      <td>4846.000000</td>\n",
              "      <td>4846.000000</td>\n",
              "      <td>4846.000000</td>\n",
              "      <td>4846.000000</td>\n",
              "      <td>4846.000000</td>\n",
              "      <td>4846.000000</td>\n",
              "      <td>4846.000000</td>\n",
              "      <td>4846.000000</td>\n",
              "      <td>4846.000000</td>\n",
              "      <td>4846.000000</td>\n",
              "      <td>4846.000000</td>\n",
              "      <td>4846.000000</td>\n",
              "      <td>4846.000000</td>\n",
              "      <td>4846.000000</td>\n",
              "      <td>4846.000000</td>\n",
              "      <td>4846.000000</td>\n",
              "      <td>4846.000000</td>\n",
              "      <td>4846.000000</td>\n",
              "      <td>4846.000000</td>\n",
              "      <td>4846.000000</td>\n",
              "      <td>4846.000000</td>\n",
              "      <td>4846.000000</td>\n",
              "      <td>4846.000000</td>\n",
              "      <td>4846.000000</td>\n",
              "      <td>4846.000000</td>\n",
              "      <td>4846.000000</td>\n",
              "      <td>4846.000000</td>\n",
              "      <td>4846.000000</td>\n",
              "      <td>4846.000000</td>\n",
              "      <td>4846.000000</td>\n",
              "      <td>4846.000000</td>\n",
              "      <td>4846.000000</td>\n",
              "      <td>4846.000000</td>\n",
              "      <td>4846.000000</td>\n",
              "      <td>4846.000000</td>\n",
              "      <td>4846.000000</td>\n",
              "      <td>4846.000000</td>\n",
              "    </tr>\n",
              "    <tr>\n",
              "      <th>mean</th>\n",
              "      <td>0.001026</td>\n",
              "      <td>0.007455</td>\n",
              "      <td>0.000058</td>\n",
              "      <td>0.000074</td>\n",
              "      <td>0.000048</td>\n",
              "      <td>0.000050</td>\n",
              "      <td>0.000042</td>\n",
              "      <td>0.000095</td>\n",
              "      <td>0.000078</td>\n",
              "      <td>0.000613</td>\n",
              "      <td>0.000044</td>\n",
              "      <td>0.000206</td>\n",
              "      <td>0.000068</td>\n",
              "      <td>0.000095</td>\n",
              "      <td>0.000480</td>\n",
              "      <td>0.000060</td>\n",
              "      <td>0.000074</td>\n",
              "      <td>0.000056</td>\n",
              "      <td>0.000669</td>\n",
              "      <td>0.000049</td>\n",
              "      <td>0.000063</td>\n",
              "      <td>0.000045</td>\n",
              "      <td>0.000593</td>\n",
              "      <td>0.000183</td>\n",
              "      <td>0.000091</td>\n",
              "      <td>0.000070</td>\n",
              "      <td>0.000035</td>\n",
              "      <td>0.000462</td>\n",
              "      <td>0.000074</td>\n",
              "      <td>0.000063</td>\n",
              "      <td>0.000493</td>\n",
              "      <td>0.000108</td>\n",
              "      <td>0.000129</td>\n",
              "      <td>0.000055</td>\n",
              "      <td>0.000049</td>\n",
              "      <td>0.000467</td>\n",
              "      <td>0.000108</td>\n",
              "      <td>0.000055</td>\n",
              "      <td>0.000068</td>\n",
              "      <td>0.000427</td>\n",
              "      <td>...</td>\n",
              "      <td>0.000125</td>\n",
              "      <td>0.000055</td>\n",
              "      <td>0.000059</td>\n",
              "      <td>0.000059</td>\n",
              "      <td>0.000054</td>\n",
              "      <td>0.000062</td>\n",
              "      <td>0.000444</td>\n",
              "      <td>0.000113</td>\n",
              "      <td>0.000073</td>\n",
              "      <td>0.000045</td>\n",
              "      <td>0.000365</td>\n",
              "      <td>0.000048</td>\n",
              "      <td>0.000058</td>\n",
              "      <td>0.000043</td>\n",
              "      <td>0.000052</td>\n",
              "      <td>0.000048</td>\n",
              "      <td>0.000587</td>\n",
              "      <td>0.000060</td>\n",
              "      <td>0.000144</td>\n",
              "      <td>0.000173</td>\n",
              "      <td>0.000159</td>\n",
              "      <td>0.000043</td>\n",
              "      <td>0.000043</td>\n",
              "      <td>0.000057</td>\n",
              "      <td>0.000051</td>\n",
              "      <td>0.000209</td>\n",
              "      <td>0.000177</td>\n",
              "      <td>0.000150</td>\n",
              "      <td>0.000533</td>\n",
              "      <td>0.000067</td>\n",
              "      <td>0.000047</td>\n",
              "      <td>0.000238</td>\n",
              "      <td>0.000363</td>\n",
              "      <td>0.000104</td>\n",
              "      <td>0.000060</td>\n",
              "      <td>0.000057</td>\n",
              "      <td>0.000063</td>\n",
              "      <td>0.000095</td>\n",
              "      <td>0.000066</td>\n",
              "      <td>0.156624</td>\n",
              "    </tr>\n",
              "    <tr>\n",
              "      <th>std</th>\n",
              "      <td>0.015828</td>\n",
              "      <td>0.041798</td>\n",
              "      <td>0.004017</td>\n",
              "      <td>0.005170</td>\n",
              "      <td>0.003336</td>\n",
              "      <td>0.003453</td>\n",
              "      <td>0.002890</td>\n",
              "      <td>0.006592</td>\n",
              "      <td>0.005395</td>\n",
              "      <td>0.013120</td>\n",
              "      <td>0.003066</td>\n",
              "      <td>0.008330</td>\n",
              "      <td>0.004765</td>\n",
              "      <td>0.006592</td>\n",
              "      <td>0.012415</td>\n",
              "      <td>0.004165</td>\n",
              "      <td>0.005180</td>\n",
              "      <td>0.003917</td>\n",
              "      <td>0.015162</td>\n",
              "      <td>0.003381</td>\n",
              "      <td>0.004366</td>\n",
              "      <td>0.003109</td>\n",
              "      <td>0.014049</td>\n",
              "      <td>0.007521</td>\n",
              "      <td>0.006302</td>\n",
              "      <td>0.004873</td>\n",
              "      <td>0.002433</td>\n",
              "      <td>0.012788</td>\n",
              "      <td>0.005180</td>\n",
              "      <td>0.004366</td>\n",
              "      <td>0.012550</td>\n",
              "      <td>0.007486</td>\n",
              "      <td>0.006351</td>\n",
              "      <td>0.003820</td>\n",
              "      <td>0.003435</td>\n",
              "      <td>0.013567</td>\n",
              "      <td>0.007551</td>\n",
              "      <td>0.003843</td>\n",
              "      <td>0.004721</td>\n",
              "      <td>0.010775</td>\n",
              "      <td>...</td>\n",
              "      <td>0.006348</td>\n",
              "      <td>0.003851</td>\n",
              "      <td>0.004080</td>\n",
              "      <td>0.004080</td>\n",
              "      <td>0.003732</td>\n",
              "      <td>0.004339</td>\n",
              "      <td>0.012356</td>\n",
              "      <td>0.007879</td>\n",
              "      <td>0.005067</td>\n",
              "      <td>0.003123</td>\n",
              "      <td>0.009707</td>\n",
              "      <td>0.003347</td>\n",
              "      <td>0.004017</td>\n",
              "      <td>0.002967</td>\n",
              "      <td>0.003630</td>\n",
              "      <td>0.003372</td>\n",
              "      <td>0.012971</td>\n",
              "      <td>0.004152</td>\n",
              "      <td>0.007088</td>\n",
              "      <td>0.006955</td>\n",
              "      <td>0.008007</td>\n",
              "      <td>0.003021</td>\n",
              "      <td>0.002967</td>\n",
              "      <td>0.003977</td>\n",
              "      <td>0.003524</td>\n",
              "      <td>0.008411</td>\n",
              "      <td>0.007121</td>\n",
              "      <td>0.007413</td>\n",
              "      <td>0.012736</td>\n",
              "      <td>0.004681</td>\n",
              "      <td>0.003244</td>\n",
              "      <td>0.008483</td>\n",
              "      <td>0.010453</td>\n",
              "      <td>0.007254</td>\n",
              "      <td>0.004152</td>\n",
              "      <td>0.003980</td>\n",
              "      <td>0.004407</td>\n",
              "      <td>0.006622</td>\n",
              "      <td>0.004569</td>\n",
              "      <td>0.617616</td>\n",
              "    </tr>\n",
              "    <tr>\n",
              "      <th>min</th>\n",
              "      <td>0.000000</td>\n",
              "      <td>0.000000</td>\n",
              "      <td>0.000000</td>\n",
              "      <td>0.000000</td>\n",
              "      <td>0.000000</td>\n",
              "      <td>0.000000</td>\n",
              "      <td>0.000000</td>\n",
              "      <td>0.000000</td>\n",
              "      <td>0.000000</td>\n",
              "      <td>0.000000</td>\n",
              "      <td>0.000000</td>\n",
              "      <td>0.000000</td>\n",
              "      <td>0.000000</td>\n",
              "      <td>0.000000</td>\n",
              "      <td>0.000000</td>\n",
              "      <td>0.000000</td>\n",
              "      <td>0.000000</td>\n",
              "      <td>0.000000</td>\n",
              "      <td>0.000000</td>\n",
              "      <td>0.000000</td>\n",
              "      <td>0.000000</td>\n",
              "      <td>0.000000</td>\n",
              "      <td>0.000000</td>\n",
              "      <td>0.000000</td>\n",
              "      <td>0.000000</td>\n",
              "      <td>0.000000</td>\n",
              "      <td>0.000000</td>\n",
              "      <td>0.000000</td>\n",
              "      <td>0.000000</td>\n",
              "      <td>0.000000</td>\n",
              "      <td>0.000000</td>\n",
              "      <td>0.000000</td>\n",
              "      <td>0.000000</td>\n",
              "      <td>0.000000</td>\n",
              "      <td>0.000000</td>\n",
              "      <td>0.000000</td>\n",
              "      <td>0.000000</td>\n",
              "      <td>0.000000</td>\n",
              "      <td>0.000000</td>\n",
              "      <td>0.000000</td>\n",
              "      <td>...</td>\n",
              "      <td>0.000000</td>\n",
              "      <td>0.000000</td>\n",
              "      <td>0.000000</td>\n",
              "      <td>0.000000</td>\n",
              "      <td>0.000000</td>\n",
              "      <td>0.000000</td>\n",
              "      <td>0.000000</td>\n",
              "      <td>0.000000</td>\n",
              "      <td>0.000000</td>\n",
              "      <td>0.000000</td>\n",
              "      <td>0.000000</td>\n",
              "      <td>0.000000</td>\n",
              "      <td>0.000000</td>\n",
              "      <td>0.000000</td>\n",
              "      <td>0.000000</td>\n",
              "      <td>0.000000</td>\n",
              "      <td>0.000000</td>\n",
              "      <td>0.000000</td>\n",
              "      <td>0.000000</td>\n",
              "      <td>0.000000</td>\n",
              "      <td>0.000000</td>\n",
              "      <td>0.000000</td>\n",
              "      <td>0.000000</td>\n",
              "      <td>0.000000</td>\n",
              "      <td>0.000000</td>\n",
              "      <td>0.000000</td>\n",
              "      <td>0.000000</td>\n",
              "      <td>0.000000</td>\n",
              "      <td>0.000000</td>\n",
              "      <td>0.000000</td>\n",
              "      <td>0.000000</td>\n",
              "      <td>0.000000</td>\n",
              "      <td>0.000000</td>\n",
              "      <td>0.000000</td>\n",
              "      <td>0.000000</td>\n",
              "      <td>0.000000</td>\n",
              "      <td>0.000000</td>\n",
              "      <td>0.000000</td>\n",
              "      <td>0.000000</td>\n",
              "      <td>-1.000000</td>\n",
              "    </tr>\n",
              "    <tr>\n",
              "      <th>25%</th>\n",
              "      <td>0.000000</td>\n",
              "      <td>0.000000</td>\n",
              "      <td>0.000000</td>\n",
              "      <td>0.000000</td>\n",
              "      <td>0.000000</td>\n",
              "      <td>0.000000</td>\n",
              "      <td>0.000000</td>\n",
              "      <td>0.000000</td>\n",
              "      <td>0.000000</td>\n",
              "      <td>0.000000</td>\n",
              "      <td>0.000000</td>\n",
              "      <td>0.000000</td>\n",
              "      <td>0.000000</td>\n",
              "      <td>0.000000</td>\n",
              "      <td>0.000000</td>\n",
              "      <td>0.000000</td>\n",
              "      <td>0.000000</td>\n",
              "      <td>0.000000</td>\n",
              "      <td>0.000000</td>\n",
              "      <td>0.000000</td>\n",
              "      <td>0.000000</td>\n",
              "      <td>0.000000</td>\n",
              "      <td>0.000000</td>\n",
              "      <td>0.000000</td>\n",
              "      <td>0.000000</td>\n",
              "      <td>0.000000</td>\n",
              "      <td>0.000000</td>\n",
              "      <td>0.000000</td>\n",
              "      <td>0.000000</td>\n",
              "      <td>0.000000</td>\n",
              "      <td>0.000000</td>\n",
              "      <td>0.000000</td>\n",
              "      <td>0.000000</td>\n",
              "      <td>0.000000</td>\n",
              "      <td>0.000000</td>\n",
              "      <td>0.000000</td>\n",
              "      <td>0.000000</td>\n",
              "      <td>0.000000</td>\n",
              "      <td>0.000000</td>\n",
              "      <td>0.000000</td>\n",
              "      <td>...</td>\n",
              "      <td>0.000000</td>\n",
              "      <td>0.000000</td>\n",
              "      <td>0.000000</td>\n",
              "      <td>0.000000</td>\n",
              "      <td>0.000000</td>\n",
              "      <td>0.000000</td>\n",
              "      <td>0.000000</td>\n",
              "      <td>0.000000</td>\n",
              "      <td>0.000000</td>\n",
              "      <td>0.000000</td>\n",
              "      <td>0.000000</td>\n",
              "      <td>0.000000</td>\n",
              "      <td>0.000000</td>\n",
              "      <td>0.000000</td>\n",
              "      <td>0.000000</td>\n",
              "      <td>0.000000</td>\n",
              "      <td>0.000000</td>\n",
              "      <td>0.000000</td>\n",
              "      <td>0.000000</td>\n",
              "      <td>0.000000</td>\n",
              "      <td>0.000000</td>\n",
              "      <td>0.000000</td>\n",
              "      <td>0.000000</td>\n",
              "      <td>0.000000</td>\n",
              "      <td>0.000000</td>\n",
              "      <td>0.000000</td>\n",
              "      <td>0.000000</td>\n",
              "      <td>0.000000</td>\n",
              "      <td>0.000000</td>\n",
              "      <td>0.000000</td>\n",
              "      <td>0.000000</td>\n",
              "      <td>0.000000</td>\n",
              "      <td>0.000000</td>\n",
              "      <td>0.000000</td>\n",
              "      <td>0.000000</td>\n",
              "      <td>0.000000</td>\n",
              "      <td>0.000000</td>\n",
              "      <td>0.000000</td>\n",
              "      <td>0.000000</td>\n",
              "      <td>0.000000</td>\n",
              "    </tr>\n",
              "    <tr>\n",
              "      <th>50%</th>\n",
              "      <td>0.000000</td>\n",
              "      <td>0.000000</td>\n",
              "      <td>0.000000</td>\n",
              "      <td>0.000000</td>\n",
              "      <td>0.000000</td>\n",
              "      <td>0.000000</td>\n",
              "      <td>0.000000</td>\n",
              "      <td>0.000000</td>\n",
              "      <td>0.000000</td>\n",
              "      <td>0.000000</td>\n",
              "      <td>0.000000</td>\n",
              "      <td>0.000000</td>\n",
              "      <td>0.000000</td>\n",
              "      <td>0.000000</td>\n",
              "      <td>0.000000</td>\n",
              "      <td>0.000000</td>\n",
              "      <td>0.000000</td>\n",
              "      <td>0.000000</td>\n",
              "      <td>0.000000</td>\n",
              "      <td>0.000000</td>\n",
              "      <td>0.000000</td>\n",
              "      <td>0.000000</td>\n",
              "      <td>0.000000</td>\n",
              "      <td>0.000000</td>\n",
              "      <td>0.000000</td>\n",
              "      <td>0.000000</td>\n",
              "      <td>0.000000</td>\n",
              "      <td>0.000000</td>\n",
              "      <td>0.000000</td>\n",
              "      <td>0.000000</td>\n",
              "      <td>0.000000</td>\n",
              "      <td>0.000000</td>\n",
              "      <td>0.000000</td>\n",
              "      <td>0.000000</td>\n",
              "      <td>0.000000</td>\n",
              "      <td>0.000000</td>\n",
              "      <td>0.000000</td>\n",
              "      <td>0.000000</td>\n",
              "      <td>0.000000</td>\n",
              "      <td>0.000000</td>\n",
              "      <td>...</td>\n",
              "      <td>0.000000</td>\n",
              "      <td>0.000000</td>\n",
              "      <td>0.000000</td>\n",
              "      <td>0.000000</td>\n",
              "      <td>0.000000</td>\n",
              "      <td>0.000000</td>\n",
              "      <td>0.000000</td>\n",
              "      <td>0.000000</td>\n",
              "      <td>0.000000</td>\n",
              "      <td>0.000000</td>\n",
              "      <td>0.000000</td>\n",
              "      <td>0.000000</td>\n",
              "      <td>0.000000</td>\n",
              "      <td>0.000000</td>\n",
              "      <td>0.000000</td>\n",
              "      <td>0.000000</td>\n",
              "      <td>0.000000</td>\n",
              "      <td>0.000000</td>\n",
              "      <td>0.000000</td>\n",
              "      <td>0.000000</td>\n",
              "      <td>0.000000</td>\n",
              "      <td>0.000000</td>\n",
              "      <td>0.000000</td>\n",
              "      <td>0.000000</td>\n",
              "      <td>0.000000</td>\n",
              "      <td>0.000000</td>\n",
              "      <td>0.000000</td>\n",
              "      <td>0.000000</td>\n",
              "      <td>0.000000</td>\n",
              "      <td>0.000000</td>\n",
              "      <td>0.000000</td>\n",
              "      <td>0.000000</td>\n",
              "      <td>0.000000</td>\n",
              "      <td>0.000000</td>\n",
              "      <td>0.000000</td>\n",
              "      <td>0.000000</td>\n",
              "      <td>0.000000</td>\n",
              "      <td>0.000000</td>\n",
              "      <td>0.000000</td>\n",
              "      <td>0.000000</td>\n",
              "    </tr>\n",
              "    <tr>\n",
              "      <th>75%</th>\n",
              "      <td>0.000000</td>\n",
              "      <td>0.000000</td>\n",
              "      <td>0.000000</td>\n",
              "      <td>0.000000</td>\n",
              "      <td>0.000000</td>\n",
              "      <td>0.000000</td>\n",
              "      <td>0.000000</td>\n",
              "      <td>0.000000</td>\n",
              "      <td>0.000000</td>\n",
              "      <td>0.000000</td>\n",
              "      <td>0.000000</td>\n",
              "      <td>0.000000</td>\n",
              "      <td>0.000000</td>\n",
              "      <td>0.000000</td>\n",
              "      <td>0.000000</td>\n",
              "      <td>0.000000</td>\n",
              "      <td>0.000000</td>\n",
              "      <td>0.000000</td>\n",
              "      <td>0.000000</td>\n",
              "      <td>0.000000</td>\n",
              "      <td>0.000000</td>\n",
              "      <td>0.000000</td>\n",
              "      <td>0.000000</td>\n",
              "      <td>0.000000</td>\n",
              "      <td>0.000000</td>\n",
              "      <td>0.000000</td>\n",
              "      <td>0.000000</td>\n",
              "      <td>0.000000</td>\n",
              "      <td>0.000000</td>\n",
              "      <td>0.000000</td>\n",
              "      <td>0.000000</td>\n",
              "      <td>0.000000</td>\n",
              "      <td>0.000000</td>\n",
              "      <td>0.000000</td>\n",
              "      <td>0.000000</td>\n",
              "      <td>0.000000</td>\n",
              "      <td>0.000000</td>\n",
              "      <td>0.000000</td>\n",
              "      <td>0.000000</td>\n",
              "      <td>0.000000</td>\n",
              "      <td>...</td>\n",
              "      <td>0.000000</td>\n",
              "      <td>0.000000</td>\n",
              "      <td>0.000000</td>\n",
              "      <td>0.000000</td>\n",
              "      <td>0.000000</td>\n",
              "      <td>0.000000</td>\n",
              "      <td>0.000000</td>\n",
              "      <td>0.000000</td>\n",
              "      <td>0.000000</td>\n",
              "      <td>0.000000</td>\n",
              "      <td>0.000000</td>\n",
              "      <td>0.000000</td>\n",
              "      <td>0.000000</td>\n",
              "      <td>0.000000</td>\n",
              "      <td>0.000000</td>\n",
              "      <td>0.000000</td>\n",
              "      <td>0.000000</td>\n",
              "      <td>0.000000</td>\n",
              "      <td>0.000000</td>\n",
              "      <td>0.000000</td>\n",
              "      <td>0.000000</td>\n",
              "      <td>0.000000</td>\n",
              "      <td>0.000000</td>\n",
              "      <td>0.000000</td>\n",
              "      <td>0.000000</td>\n",
              "      <td>0.000000</td>\n",
              "      <td>0.000000</td>\n",
              "      <td>0.000000</td>\n",
              "      <td>0.000000</td>\n",
              "      <td>0.000000</td>\n",
              "      <td>0.000000</td>\n",
              "      <td>0.000000</td>\n",
              "      <td>0.000000</td>\n",
              "      <td>0.000000</td>\n",
              "      <td>0.000000</td>\n",
              "      <td>0.000000</td>\n",
              "      <td>0.000000</td>\n",
              "      <td>0.000000</td>\n",
              "      <td>0.000000</td>\n",
              "      <td>1.000000</td>\n",
              "    </tr>\n",
              "    <tr>\n",
              "      <th>max</th>\n",
              "      <td>0.345644</td>\n",
              "      <td>0.561153</td>\n",
              "      <td>0.279671</td>\n",
              "      <td>0.359932</td>\n",
              "      <td>0.232234</td>\n",
              "      <td>0.240369</td>\n",
              "      <td>0.201161</td>\n",
              "      <td>0.458920</td>\n",
              "      <td>0.375585</td>\n",
              "      <td>0.466995</td>\n",
              "      <td>0.213448</td>\n",
              "      <td>0.386279</td>\n",
              "      <td>0.331722</td>\n",
              "      <td>0.458920</td>\n",
              "      <td>0.491486</td>\n",
              "      <td>0.289928</td>\n",
              "      <td>0.360596</td>\n",
              "      <td>0.272707</td>\n",
              "      <td>0.464714</td>\n",
              "      <td>0.235328</td>\n",
              "      <td>0.303928</td>\n",
              "      <td>0.216461</td>\n",
              "      <td>0.498237</td>\n",
              "      <td>0.381868</td>\n",
              "      <td>0.438679</td>\n",
              "      <td>0.339231</td>\n",
              "      <td>0.169354</td>\n",
              "      <td>0.468328</td>\n",
              "      <td>0.360596</td>\n",
              "      <td>0.303928</td>\n",
              "      <td>0.504937</td>\n",
              "      <td>0.521147</td>\n",
              "      <td>0.321426</td>\n",
              "      <td>0.265917</td>\n",
              "      <td>0.239123</td>\n",
              "      <td>0.518026</td>\n",
              "      <td>0.525638</td>\n",
              "      <td>0.267493</td>\n",
              "      <td>0.328620</td>\n",
              "      <td>0.353819</td>\n",
              "      <td>...</td>\n",
              "      <td>0.382385</td>\n",
              "      <td>0.268093</td>\n",
              "      <td>0.284026</td>\n",
              "      <td>0.284026</td>\n",
              "      <td>0.259814</td>\n",
              "      <td>0.302077</td>\n",
              "      <td>0.473332</td>\n",
              "      <td>0.548485</td>\n",
              "      <td>0.352758</td>\n",
              "      <td>0.217377</td>\n",
              "      <td>0.327493</td>\n",
              "      <td>0.233001</td>\n",
              "      <td>0.279671</td>\n",
              "      <td>0.206574</td>\n",
              "      <td>0.252677</td>\n",
              "      <td>0.234766</td>\n",
              "      <td>0.330101</td>\n",
              "      <td>0.289021</td>\n",
              "      <td>0.359292</td>\n",
              "      <td>0.284176</td>\n",
              "      <td>0.466336</td>\n",
              "      <td>0.210305</td>\n",
              "      <td>0.206574</td>\n",
              "      <td>0.276845</td>\n",
              "      <td>0.245306</td>\n",
              "      <td>0.365382</td>\n",
              "      <td>0.295876</td>\n",
              "      <td>0.402817</td>\n",
              "      <td>0.434573</td>\n",
              "      <td>0.325881</td>\n",
              "      <td>0.225802</td>\n",
              "      <td>0.335597</td>\n",
              "      <td>0.347404</td>\n",
              "      <td>0.504985</td>\n",
              "      <td>0.289021</td>\n",
              "      <td>0.277057</td>\n",
              "      <td>0.306802</td>\n",
              "      <td>0.460949</td>\n",
              "      <td>0.318089</td>\n",
              "      <td>1.000000</td>\n",
              "    </tr>\n",
              "  </tbody>\n",
              "</table>\n",
              "<p>8 rows × 10072 columns</p>\n",
              "</div>"
            ],
            "text/plain": [
              "                00          000  ...         ˆeur    Sentiment\n",
              "count  4846.000000  4846.000000  ...  4846.000000  4846.000000\n",
              "mean      0.001026     0.007455  ...     0.000066     0.156624\n",
              "std       0.015828     0.041798  ...     0.004569     0.617616\n",
              "min       0.000000     0.000000  ...     0.000000    -1.000000\n",
              "25%       0.000000     0.000000  ...     0.000000     0.000000\n",
              "50%       0.000000     0.000000  ...     0.000000     0.000000\n",
              "75%       0.000000     0.000000  ...     0.000000     1.000000\n",
              "max       0.345644     0.561153  ...     0.318089     1.000000\n",
              "\n",
              "[8 rows x 10072 columns]"
            ]
          },
          "metadata": {},
          "execution_count": 19
        }
      ]
    },
    {
      "cell_type": "code",
      "metadata": {
        "id": "Q6QYuRlXGyXD",
        "colab": {
          "base_uri": "https://localhost:8080/"
        },
        "outputId": "3c21ac04-0198-462a-afb4-6d25247e872c"
      },
      "source": [
        "final.Sentiment.sum()"
      ],
      "execution_count": null,
      "outputs": [
        {
          "output_type": "execute_result",
          "data": {
            "text/plain": [
              "759"
            ]
          },
          "metadata": {},
          "execution_count": 20
        }
      ]
    },
    {
      "cell_type": "markdown",
      "metadata": {
        "id": "i06z1ZdcGyXE"
      },
      "source": [
        "#  Data Cleaning"
      ]
    },
    {
      "cell_type": "code",
      "metadata": {
        "id": "m-qW4smtGyXE"
      },
      "source": [
        "final = final.drop(final.columns[final.sum() < 0.5], axis=1)\n",
        "#final['Sentiment'] = Doc[0]\n",
        "\n"
      ],
      "execution_count": null,
      "outputs": []
    },
    {
      "cell_type": "markdown",
      "metadata": {
        "id": "K5sGudImGyXE"
      },
      "source": [
        "# TEST - TRAIN SPLIT"
      ]
    },
    {
      "cell_type": "code",
      "metadata": {
        "id": "JASHtYGAGyXF"
      },
      "source": [
        "from sklearn.model_selection import train_test_split\n",
        "from sklearn.preprocessing import StandardScaler"
      ],
      "execution_count": null,
      "outputs": []
    },
    {
      "cell_type": "code",
      "metadata": {
        "id": "JaAdUdbkGyXF"
      },
      "source": [
        "X = final.drop('Sentiment',axis=1)\n",
        "y = final['Sentiment']"
      ],
      "execution_count": null,
      "outputs": []
    },
    {
      "cell_type": "code",
      "metadata": {
        "id": "7BHd3cwlGyXF"
      },
      "source": [
        "X_train, X_test, y_train, y_test = train_test_split(X, y, test_size=0.1, random_state=101)"
      ],
      "execution_count": null,
      "outputs": []
    },
    {
      "cell_type": "markdown",
      "metadata": {
        "id": "nHcF-EIxGyXF"
      },
      "source": [
        "# RANDOM FOREST IMPLEMENTATION AND TUNING"
      ]
    },
    {
      "cell_type": "code",
      "metadata": {
        "id": "rMtnboQYGyXF"
      },
      "source": [
        "from sklearn.ensemble import RandomForestClassifier\n",
        "from sklearn.metrics import confusion_matrix,classification_report,plot_confusion_matrix,accuracy_score,mean_absolute_error,mean_squared_error\n"
      ],
      "execution_count": null,
      "outputs": []
    },
    {
      "cell_type": "code",
      "metadata": {
        "id": "pOObJJlfGyXG",
        "colab": {
          "base_uri": "https://localhost:8080/"
        },
        "outputId": "c8d64aec-cc86-4969-d32c-4cae0bb681fb"
      },
      "source": [
        "test_error = []\n",
        "\n",
        "for n in range(1,10):\n",
        "    # Use n random trees\n",
        "    model = RandomForestClassifier(n_estimators=n,max_features='auto')\n",
        "    model.fit(X_train,y_train)\n",
        "    test_preds = model.predict(X_test)\n",
        "    test_error.append(1-accuracy_score(test_preds,y_test))\n",
        "    print(accuracy_score(test_preds,y_test)*100)"
      ],
      "execution_count": null,
      "outputs": [
        {
          "output_type": "stream",
          "name": "stdout",
          "text": [
            "62.88659793814433\n",
            "62.06185567010309\n",
            "63.092783505154635\n",
            "71.1340206185567\n",
            "68.45360824742268\n",
            "70.72164948453609\n",
            "70.10309278350515\n",
            "71.95876288659794\n",
            "69.89690721649484\n"
          ]
        }
      ]
    },
    {
      "cell_type": "code",
      "metadata": {
        "id": "FzwAg6d4GyXG",
        "colab": {
          "base_uri": "https://localhost:8080/"
        },
        "outputId": "3c904537-3c4b-4deb-b5ed-efdf332a6876"
      },
      "source": [
        "test_error = []\n",
        "\n",
        "for n in range(1,10):\n",
        "    # Use n random trees\n",
        "    model = RandomForestClassifier(n_estimators=n,max_features='sqrt')\n",
        "    model.fit(X_train,y_train)\n",
        "    test_preds = model.predict(X_test)\n",
        "    test_error.append(1-accuracy_score(test_preds,y_test))\n",
        "    print(accuracy_score(test_preds,y_test)*100)"
      ],
      "execution_count": null,
      "outputs": [
        {
          "output_type": "stream",
          "name": "stdout",
          "text": [
            "66.8041237113402\n",
            "61.23711340206186\n",
            "66.8041237113402\n",
            "67.83505154639175\n",
            "71.34020618556701\n",
            "71.34020618556701\n",
            "72.98969072164948\n",
            "70.9278350515464\n",
            "69.89690721649484\n"
          ]
        }
      ]
    },
    {
      "cell_type": "code",
      "metadata": {
        "id": "n0lZFOkXGyXG",
        "colab": {
          "base_uri": "https://localhost:8080/",
          "height": 283
        },
        "outputId": "30d944b4-9140-408a-a162-d0638a083b5c"
      },
      "source": [
        "plt.plot(range(1,10),test_error,label='Test Error')\n",
        "plt.legend()"
      ],
      "execution_count": null,
      "outputs": [
        {
          "output_type": "execute_result",
          "data": {
            "text/plain": [
              "<matplotlib.legend.Legend at 0x7f3d7499e250>"
            ]
          },
          "metadata": {},
          "execution_count": 28
        },
        {
          "output_type": "display_data",
          "data": {
            "image/png": "[encoded data removed]",
            "text/plain": [
              "<Figure size 432x288 with 1 Axes>"
            ]
          },
          "metadata": {
            "needs_background": "light"
          }
        }
      ]
    },
    {
      "cell_type": "code",
      "metadata": {
        "id": "qMupJqS8GyXG"
      },
      "source": [
        "model = RandomForestClassifier(n_estimators=9,max_features='auto',random_state=101)\n",
        "\n",
        "model.fit(X_train,y_train)\n",
        "\n",
        "pred_RF = model.predict(X_test)"
      ],
      "execution_count": null,
      "outputs": []
    },
    {
      "cell_type": "code",
      "metadata": {
        "id": "q-jNQeuzGyXH",
        "colab": {
          "base_uri": "https://localhost:8080/",
          "height": 297
        },
        "outputId": "4db8e4fe-832d-4a31-cde9-a868ece7b1cb"
      },
      "source": [
        "plot_confusion_matrix(model,X_test,y_test)"
      ],
      "execution_count": null,
      "outputs": [
        {
          "output_type": "execute_result",
          "data": {
            "text/plain": [
              "<sklearn.metrics._plot.confusion_matrix.ConfusionMatrixDisplay at 0x7f3d747d88d0>"
            ]
          },
          "metadata": {},
          "execution_count": 30
        },
        {
          "output_type": "display_data",
          "data": {
            "image/png": "[encoded data removed]",
            "text/plain": [
              "<Figure size 432x288 with 2 Axes>"
            ]
          },
          "metadata": {
            "needs_background": "light"
          }
        }
      ]
    },
    {
      "cell_type": "markdown",
      "metadata": {
        "id": "mvEecnQOGyXH"
      },
      "source": [
        "#### MODEL TUNING"
      ]
    },
    {
      "cell_type": "code",
      "metadata": {
        "id": "crDDhjBcGyXH"
      },
      "source": [
        "from sklearn.model_selection import GridSearchCV        # takes much time to run on pc\n",
        "\n",
        "n_estimators=[64,100,128,200]\n",
        "max_features= ['auto','sqrt']\n",
        "\n",
        "\n",
        "param_grid = {'n_estimators':n_estimators,\n",
        "             'max_features':max_features,\n",
        "             }  \n",
        "\n",
        "rfc = RandomForestClassifier()\n",
        "grid = GridSearchCV(rfc,param_grid)\n",
        "\n",
        "grid.fit(X_train,y_train)\n",
        "\n",
        "grid.best_params_"
      ],
      "execution_count": null,
      "outputs": []
    },
    {
      "cell_type": "code",
      "metadata": {
        "id": "MU7hhd7WGyXH"
      },
      "source": [
        ""
      ],
      "execution_count": null,
      "outputs": []
    },
    {
      "cell_type": "markdown",
      "metadata": {
        "id": "3XB4ga1RGyXH"
      },
      "source": [
        "# XGB IMPLEMENTATION"
      ]
    },
    {
      "cell_type": "code",
      "metadata": {
        "id": "ZF3zEUkuGyXH",
        "colab": {
          "base_uri": "https://localhost:8080/"
        },
        "outputId": "232f05b2-0659-403f-f5ba-f2be219085c5"
      },
      "source": [
        "from xgboost import XGBClassifier\n",
        "\n",
        "model = XGBClassifier()\n",
        "model.fit(X_train, y_train)\n",
        "\n",
        "y_pred = model.predict(X_test)\n",
        "predictions = [round(value) for value in y_pred]\n",
        "\n",
        "accuracy = accuracy_score(y_test, predictions)\n",
        "print(\"Accuracy: %.2f%%\" % (accuracy * 100.0))"
      ],
      "execution_count": null,
      "outputs": [
        {
          "output_type": "stream",
          "name": "stdout",
          "text": [
            "Accuracy: 72.58%\n"
          ]
        }
      ]
    },
    {
      "cell_type": "markdown",
      "metadata": {
        "id": "5GDae5RsGyXI"
      },
      "source": [
        "# NEURAL NETWORK IMPLEMENTATION"
      ]
    },
    {
      "cell_type": "code",
      "metadata": {
        "id": "Qf-t1q5hGyXI"
      },
      "source": [
        "from tensorflow.keras.models import Sequential\n",
        "\n",
        "from tensorflow.keras.layers import Dense"
      ],
      "execution_count": null,
      "outputs": []
    },
    {
      "cell_type": "code",
      "metadata": {
        "id": "frRa_dE0GyXI",
        "colab": {
          "base_uri": "https://localhost:8080/"
        },
        "outputId": "3ee290cb-8937-4f9c-e915-163eac25a123"
      },
      "source": [
        "from sklearn.preprocessing import MinMaxScaler\n",
        "\n",
        "scaler = MinMaxScaler()\n",
        "\n",
        "scaler.fit(X_train)"
      ],
      "execution_count": null,
      "outputs": [
        {
          "output_type": "execute_result",
          "data": {
            "text/plain": [
              "MinMaxScaler(copy=True, feature_range=(0, 1))"
            ]
          },
          "metadata": {},
          "execution_count": 36
        }
      ]
    },
    {
      "cell_type": "code",
      "metadata": {
        "id": "O7hL14bAGyXI"
      },
      "source": [
        "X_train_scaled = scaler.transform(X_train)\n",
        "\n",
        "X_test_scaled  = scaler.transform(X_test)"
      ],
      "execution_count": null,
      "outputs": []
    },
    {
      "cell_type": "code",
      "metadata": {
        "id": "LEg_c8lQGyXI"
      },
      "source": [
        "model = Sequential()"
      ],
      "execution_count": null,
      "outputs": []
    },
    {
      "cell_type": "code",
      "metadata": {
        "id": "oe9MI5XmGyXI"
      },
      "source": [
        "model.add(Dense(4,activation='relu'))\n",
        "model.add(Dense(8,activation='relu'))\n",
        "model.add(Dense(4,activation='relu'))\n",
        "model.add(Dense(1))"
      ],
      "execution_count": null,
      "outputs": []
    },
    {
      "cell_type": "code",
      "metadata": {
        "id": "ELp5Sfm0GyXJ",
        "colab": {
          "base_uri": "https://localhost:8080/"
        },
        "outputId": "93d2cc5d-6b27-4be4-da45-2a655490b704"
      },
      "source": [
        "model.compile(optimizer = 'adam',loss='mse')\n",
        "\n",
        "model.fit(X_train_scaled,y_train,epochs=50,batch_size=256)"
      ],
      "execution_count": null,
      "outputs": [
        {
          "output_type": "stream",
          "name": "stdout",
          "text": [
            "Epoch 1/50\n",
            "18/18 [==============================] - 1s 11ms/step - loss: 0.3760\n",
            "Epoch 2/50\n",
            "18/18 [==============================] - 0s 12ms/step - loss: 0.3429\n",
            "Epoch 3/50\n",
            "18/18 [==============================] - 0s 10ms/step - loss: 0.3104\n",
            "Epoch 4/50\n",
            "18/18 [==============================] - 0s 11ms/step - loss: 0.2754\n",
            "Epoch 5/50\n",
            "18/18 [==============================] - 0s 11ms/step - loss: 0.2434\n",
            "Epoch 6/50\n",
            "18/18 [==============================] - 0s 10ms/step - loss: 0.2149\n",
            "Epoch 7/50\n",
            "18/18 [==============================] - 0s 11ms/step - loss: 0.1922\n",
            "Epoch 8/50\n",
            "18/18 [==============================] - 0s 11ms/step - loss: 0.1732\n",
            "Epoch 9/50\n",
            "18/18 [==============================] - 0s 11ms/step - loss: 0.1582\n",
            "Epoch 10/50\n",
            "18/18 [==============================] - 0s 10ms/step - loss: 0.1463\n",
            "Epoch 11/50\n",
            "18/18 [==============================] - 0s 10ms/step - loss: 0.1370\n",
            "Epoch 12/50\n",
            "18/18 [==============================] - 0s 10ms/step - loss: 0.1292\n",
            "Epoch 13/50\n",
            "18/18 [==============================] - 0s 11ms/step - loss: 0.1226\n",
            "Epoch 14/50\n",
            "18/18 [==============================] - 0s 11ms/step - loss: 0.1166\n",
            "Epoch 15/50\n",
            "18/18 [==============================] - 0s 11ms/step - loss: 0.1110\n",
            "Epoch 16/50\n",
            "18/18 [==============================] - 0s 11ms/step - loss: 0.1067\n",
            "Epoch 17/50\n",
            "18/18 [==============================] - 0s 11ms/step - loss: 0.1020\n",
            "Epoch 18/50\n",
            "18/18 [==============================] - 0s 11ms/step - loss: 0.0978\n",
            "Epoch 19/50\n",
            "18/18 [==============================] - 0s 11ms/step - loss: 0.0936\n",
            "Epoch 20/50\n",
            "18/18 [==============================] - 0s 11ms/step - loss: 0.0894\n",
            "Epoch 21/50\n",
            "18/18 [==============================] - 0s 11ms/step - loss: 0.0856\n",
            "Epoch 22/50\n",
            "18/18 [==============================] - 0s 11ms/step - loss: 0.0817\n",
            "Epoch 23/50\n",
            "18/18 [==============================] - 0s 11ms/step - loss: 0.0780\n",
            "Epoch 24/50\n",
            "18/18 [==============================] - 0s 10ms/step - loss: 0.0745\n",
            "Epoch 25/50\n",
            "18/18 [==============================] - 0s 10ms/step - loss: 0.0715\n",
            "Epoch 26/50\n",
            "18/18 [==============================] - 0s 11ms/step - loss: 0.0683\n",
            "Epoch 27/50\n",
            "18/18 [==============================] - 0s 11ms/step - loss: 0.0650\n",
            "Epoch 28/50\n",
            "18/18 [==============================] - 0s 11ms/step - loss: 0.0617\n",
            "Epoch 29/50\n",
            "18/18 [==============================] - 0s 11ms/step - loss: 0.0588\n",
            "Epoch 30/50\n",
            "18/18 [==============================] - 0s 11ms/step - loss: 0.0561\n",
            "Epoch 31/50\n",
            "18/18 [==============================] - 0s 11ms/step - loss: 0.0540\n",
            "Epoch 32/50\n",
            "18/18 [==============================] - 0s 11ms/step - loss: 0.0523\n",
            "Epoch 33/50\n",
            "18/18 [==============================] - 0s 11ms/step - loss: 0.0494\n",
            "Epoch 34/50\n",
            "18/18 [==============================] - 0s 10ms/step - loss: 0.0469\n",
            "Epoch 35/50\n",
            "18/18 [==============================] - 0s 11ms/step - loss: 0.0446\n",
            "Epoch 36/50\n",
            "18/18 [==============================] - 0s 11ms/step - loss: 0.0427\n",
            "Epoch 37/50\n",
            "18/18 [==============================] - 0s 10ms/step - loss: 0.0409\n",
            "Epoch 38/50\n",
            "18/18 [==============================] - 0s 11ms/step - loss: 0.0392\n",
            "Epoch 39/50\n",
            "18/18 [==============================] - 0s 11ms/step - loss: 0.0373\n",
            "Epoch 40/50\n",
            "18/18 [==============================] - 0s 12ms/step - loss: 0.0357\n",
            "Epoch 41/50\n",
            "18/18 [==============================] - 0s 10ms/step - loss: 0.0344\n",
            "Epoch 42/50\n",
            "18/18 [==============================] - 0s 11ms/step - loss: 0.0328\n",
            "Epoch 43/50\n",
            "18/18 [==============================] - 0s 11ms/step - loss: 0.0315\n",
            "Epoch 44/50\n",
            "18/18 [==============================] - 0s 11ms/step - loss: 0.0303\n",
            "Epoch 45/50\n",
            "18/18 [==============================] - 0s 11ms/step - loss: 0.0292\n",
            "Epoch 46/50\n",
            "18/18 [==============================] - 0s 11ms/step - loss: 0.0299\n",
            "Epoch 47/50\n",
            "18/18 [==============================] - 0s 11ms/step - loss: 0.0290\n",
            "Epoch 48/50\n",
            "18/18 [==============================] - 0s 11ms/step - loss: 0.0272\n",
            "Epoch 49/50\n",
            "18/18 [==============================] - 0s 10ms/step - loss: 0.0255\n",
            "Epoch 50/50\n",
            "18/18 [==============================] - 0s 10ms/step - loss: 0.0242\n"
          ]
        },
        {
          "output_type": "execute_result",
          "data": {
            "text/plain": [
              "<keras.callbacks.History at 0x7f3d77436b50>"
            ]
          },
          "metadata": {},
          "execution_count": 40
        }
      ]
    },
    {
      "cell_type": "code",
      "metadata": {
        "id": "tO9Q110rGyXJ",
        "colab": {
          "base_uri": "https://localhost:8080/",
          "height": 283
        },
        "outputId": "28dac250-9b0b-4652-9181-3d120feab9c7"
      },
      "source": [
        "loss= pd.DataFrame(model.history.history)\n",
        "loss.plot()"
      ],
      "execution_count": null,
      "outputs": [
        {
          "output_type": "execute_result",
          "data": {
            "text/plain": [
              "<matplotlib.axes._subplots.AxesSubplot at 0x7f3d75e30590>"
            ]
          },
          "metadata": {},
          "execution_count": 41
        },
        {
          "output_type": "display_data",
          "data": {
            "image/png": "[encoded data removed]",
            "text/plain": [
              "<Figure size 432x288 with 1 Axes>"
            ]
          },
          "metadata": {
            "needs_background": "light"
          }
        }
      ]
    },
    {
      "cell_type": "code",
      "metadata": {
        "id": "SX2-P2L7GyXJ"
      },
      "source": [
        "#model.evaluate(X_test_scaled,y_test,verbose=0)\n",
        "\n",
        "pred_nn =model.predict(X_test_scaled)\n",
        "\n",
        "#checking for errors\n",
        "\n"
      ],
      "execution_count": null,
      "outputs": []
    },
    {
      "cell_type": "code",
      "metadata": {
        "id": "MCAeCB_KGyXJ",
        "colab": {
          "base_uri": "https://localhost:8080/"
        },
        "outputId": "6abdb36b-bc39-43d0-ea33-de81f72ffe38"
      },
      "source": [
        "mean_squared_error(y_test,pred_nn)"
      ],
      "execution_count": null,
      "outputs": [
        {
          "output_type": "execute_result",
          "data": {
            "text/plain": [
              "0.3709480906695036"
            ]
          },
          "metadata": {},
          "execution_count": 43
        }
      ]
    },
    {
      "cell_type": "markdown",
      "metadata": {
        "id": "dA_rqfIVGyXJ"
      },
      "source": [
        "## NEURAL NETWORKS AFTER  LABEL ENCODING"
      ]
    },
    {
      "cell_type": "code",
      "metadata": {
        "id": "aP5S3DUpGyXJ"
      },
      "source": [
        "## This is made seperate as we have used label encoding which is different than previous 3 models\n",
        "from keras.wrappers.scikit_learn import KerasClassifier\n",
        "from keras.utils import np_utils\n",
        "from sklearn.model_selection import cross_val_score\n",
        "from sklearn.model_selection import KFold\n",
        "from sklearn.preprocessing import LabelEncoder\n",
        "from sklearn.pipeline import Pipeline"
      ],
      "execution_count": null,
      "outputs": []
    },
    {
      "cell_type": "code",
      "metadata": {
        "id": "ivmxlMC3GyXJ"
      },
      "source": [
        "all_labels = pf['Sentiment'].values"
      ],
      "execution_count": null,
      "outputs": []
    },
    {
      "cell_type": "code",
      "metadata": {
        "id": "ce1Pl9EBGyXJ"
      },
      "source": [
        "all_inputs = X.values"
      ],
      "execution_count": null,
      "outputs": []
    },
    {
      "cell_type": "code",
      "metadata": {
        "id": "bZTaHN7jGyXK"
      },
      "source": [
        "#all_labels"
      ],
      "execution_count": null,
      "outputs": []
    },
    {
      "cell_type": "code",
      "metadata": {
        "id": "XjoxPQyJGyXK"
      },
      "source": [
        "#all_inputs"
      ],
      "execution_count": null,
      "outputs": []
    },
    {
      "cell_type": "code",
      "metadata": {
        "id": "vrWY7VW2GyXK"
      },
      "source": [
        "encoder = LabelEncoder()\n",
        "encoder.fit(all_labels)\n",
        "encoded_Y = encoder.transform(all_labels)\n",
        "\n",
        "dummy_y = np_utils.to_categorical(encoded_Y)"
      ],
      "execution_count": null,
      "outputs": []
    },
    {
      "cell_type": "code",
      "metadata": {
        "id": "7Cne_MswGyXK"
      },
      "source": [
        "model = Sequential()\n",
        "model.add(Dense(64, input_dim=all_inputs.shape[1], activation='relu'))\n",
        "model.add(Dense(8, activation='relu'))\n",
        "model.add(Dense(8, activation='relu'))\n",
        "model.add(Dense(3, activation='softmax'))\n",
        "model.compile(loss='categorical_crossentropy', optimizer='adam', metrics=['accuracy'])"
      ],
      "execution_count": null,
      "outputs": []
    },
    {
      "cell_type": "code",
      "metadata": {
        "id": "Bx8E0zSFGyXK"
      },
      "source": [
        "X_train_encoded, X_test_encoded, y_train_encoded, y_test_encoded = train_test_split(all_inputs,dummy_y, test_size=0.1, random_state=101)"
      ],
      "execution_count": null,
      "outputs": []
    },
    {
      "cell_type": "code",
      "metadata": {
        "id": "nOokziY7GyXK"
      },
      "source": [
        "train_x = np.asarray(X_train_encoded)\n",
        "train_y = np.asarray(y_train_encoded)\n",
        "validation_x = np.asarray(X_test_encoded)\n",
        "validation_y = np.asarray(y_test_encoded)"
      ],
      "execution_count": null,
      "outputs": []
    },
    {
      "cell_type": "code",
      "metadata": {
        "id": "lL62_juyGyXK",
        "colab": {
          "base_uri": "https://localhost:8080/"
        },
        "outputId": "544558f5-901b-46ba-f06b-f617716aa8bf"
      },
      "source": [
        "model.fit(train_x,train_y, epochs=30)"
      ],
      "execution_count": null,
      "outputs": [
        {
          "output_type": "stream",
          "name": "stdout",
          "text": [
            "Epoch 1/30\n",
            "137/137 [==============================] - 1s 5ms/step - loss: 0.9780 - accuracy: 0.5923\n",
            "Epoch 2/30\n",
            "137/137 [==============================] - 1s 5ms/step - loss: 0.7164 - accuracy: 0.6421\n",
            "Epoch 3/30\n",
            "137/137 [==============================] - 1s 5ms/step - loss: 0.4982 - accuracy: 0.7707\n",
            "Epoch 4/30\n",
            "137/137 [==============================] - 1s 5ms/step - loss: 0.3279 - accuracy: 0.8737\n",
            "Epoch 5/30\n",
            "137/137 [==============================] - 1s 5ms/step - loss: 0.1651 - accuracy: 0.9594\n",
            "Epoch 6/30\n",
            "137/137 [==============================] - 1s 5ms/step - loss: 0.0766 - accuracy: 0.9828\n",
            "Epoch 7/30\n",
            "137/137 [==============================] - 1s 5ms/step - loss: 0.0431 - accuracy: 0.9895\n",
            "Epoch 8/30\n",
            "137/137 [==============================] - 1s 5ms/step - loss: 0.0274 - accuracy: 0.9927\n",
            "Epoch 9/30\n",
            "137/137 [==============================] - 1s 5ms/step - loss: 0.0201 - accuracy: 0.9954\n",
            "Epoch 10/30\n",
            "137/137 [==============================] - 1s 5ms/step - loss: 0.0158 - accuracy: 0.9959\n",
            "Epoch 11/30\n",
            "137/137 [==============================] - 1s 5ms/step - loss: 0.0123 - accuracy: 0.9975\n",
            "Epoch 12/30\n",
            "137/137 [==============================] - 1s 5ms/step - loss: 0.0121 - accuracy: 0.9972\n",
            "Epoch 13/30\n",
            "137/137 [==============================] - 1s 4ms/step - loss: 0.0091 - accuracy: 0.9982\n",
            "Epoch 14/30\n",
            "137/137 [==============================] - 1s 5ms/step - loss: 0.0102 - accuracy: 0.9979\n",
            "Epoch 15/30\n",
            "137/137 [==============================] - 1s 5ms/step - loss: 0.0099 - accuracy: 0.9977\n",
            "Epoch 16/30\n",
            "137/137 [==============================] - 1s 5ms/step - loss: 0.0078 - accuracy: 0.9977\n",
            "Epoch 17/30\n",
            "137/137 [==============================] - 1s 5ms/step - loss: 0.0079 - accuracy: 0.9979\n",
            "Epoch 18/30\n",
            "137/137 [==============================] - 1s 5ms/step - loss: 0.0085 - accuracy: 0.9975\n",
            "Epoch 19/30\n",
            "137/137 [==============================] - 1s 5ms/step - loss: 0.0074 - accuracy: 0.9982\n",
            "Epoch 20/30\n",
            "137/137 [==============================] - 1s 5ms/step - loss: 0.0065 - accuracy: 0.9979\n",
            "Epoch 21/30\n",
            "137/137 [==============================] - 1s 5ms/step - loss: 0.0059 - accuracy: 0.9979\n",
            "Epoch 22/30\n",
            "137/137 [==============================] - 1s 6ms/step - loss: 0.0063 - accuracy: 0.9975\n",
            "Epoch 23/30\n",
            "137/137 [==============================] - 1s 6ms/step - loss: 0.0070 - accuracy: 0.9977\n",
            "Epoch 24/30\n",
            "137/137 [==============================] - 1s 6ms/step - loss: 0.0065 - accuracy: 0.9979\n",
            "Epoch 25/30\n",
            "137/137 [==============================] - 1s 6ms/step - loss: 0.0040 - accuracy: 0.9989\n",
            "Epoch 26/30\n",
            "137/137 [==============================] - 1s 6ms/step - loss: 0.0045 - accuracy: 0.9989\n",
            "Epoch 27/30\n",
            "137/137 [==============================] - 1s 6ms/step - loss: 0.0036 - accuracy: 0.9991\n",
            "Epoch 28/30\n",
            "137/137 [==============================] - 1s 6ms/step - loss: 0.0039 - accuracy: 0.9991\n",
            "Epoch 29/30\n",
            "137/137 [==============================] - 1s 5ms/step - loss: 0.0051 - accuracy: 0.9984\n",
            "Epoch 30/30\n",
            "137/137 [==============================] - 1s 6ms/step - loss: 0.0042 - accuracy: 0.9984\n"
          ]
        },
        {
          "output_type": "execute_result",
          "data": {
            "text/plain": [
              "<keras.callbacks.History at 0x7f3d75828f10>"
            ]
          },
          "metadata": {},
          "execution_count": 53
        }
      ]
    },
    {
      "cell_type": "code",
      "metadata": {
        "id": "HbRbHwjXGyXK",
        "colab": {
          "base_uri": "https://localhost:8080/"
        },
        "outputId": "c7a21c1f-1d43-4cdc-a98a-58bc0c7665c8"
      },
      "source": [
        "pred_train = model.predict(train_x)\n",
        "scores = model.evaluate(train_x, train_y, verbose=0)\n",
        "print('Accuracy on training data: {} \\n Error on training data: {}'.format(scores[1], 1 - scores[1]))   \n",
        " \n",
        "pred_test= model.predict(validation_x)\n",
        "scores2 = model.evaluate(validation_x, validation_y, verbose=0)\n",
        "print('Accuracy on test data: {} \\n Error on test data: {}'.format(scores2[1], 1 - scores2[1]))   "
      ],
      "execution_count": null,
      "outputs": [
        {
          "output_type": "stream",
          "name": "stdout",
          "text": [
            "Accuracy on training data: 0.9993121027946472 \n",
            " Error on training data: 0.0006878972053527832\n",
            "Accuracy on test data: 0.7360824942588806 \n",
            " Error on test data: 0.2639175057411194\n"
          ]
        }
      ]
    },
    {
      "cell_type": "markdown",
      "metadata": {
        "id": "klDHjx9uHFkL"
      },
      "source": [
        ""
      ]
    },
    {
      "cell_type": "markdown",
      "metadata": {
        "id": "_fwmNbw_HkPI"
      },
      "source": [
        "# Decision Trees\n"
      ]
    },
    {
      "cell_type": "code",
      "metadata": {
        "id": "EgVZo6EIK2Vi"
      },
      "source": [
        "from sklearn.tree import DecisionTreeClassifier\n",
        "dtree = DecisionTreeClassifier(max_depth = 15).fit(X_train,y_train)\n",
        "y_pred = dtree.predict(X_test)\n"
      ],
      "execution_count": null,
      "outputs": []
    },
    {
      "cell_type": "code",
      "metadata": {
        "id": "YBpqJeS6K6vn",
        "colab": {
          "base_uri": "https://localhost:8080/"
        },
        "outputId": "cd980f97-c5e3-41d8-8de2-654d140b0a05"
      },
      "source": [
        "print(y_pred)"
      ],
      "execution_count": null,
      "outputs": [
        {
          "output_type": "stream",
          "name": "stdout",
          "text": [
            "[ 0  0  0  0  0  0  0  0 -1  0  1 -1  0  0  0  0  0  0  0  1  1  0 -1  0\n",
            "  0  0  1 -1  0  0  0  0  1  1  0 -1  0  0  0  0  0  0  0  0  0  0  0  0\n",
            "  0 -1  0  0 -1  0  0  0  0  0  0 -1  0  0  0  0  0  0  0  0  0  1  1  0\n",
            " -1  1  0  0  0  0  0  0  0  0  0  0  1  0  0  0  0  0  0  0  0  0  0  0\n",
            "  0  0  1  0  1  1  0  0  0  1  0  1  0  0  0  0  0  0  0  0  1  0  0  0\n",
            "  0  0  0  1  1  0 -1  1  0  0  0  0  0  0 -1  0  0  0  0 -1  0  0  1  1\n",
            "  0  0  1  1  0  1 -1  0 -1  0  0  0  0  0  0  1  1 -1 -1  0  0  0  0  0\n",
            "  0  1  0  0  0  0  0  0  0  1  0  0  0  1  1  0  0  0  0  1  1  0  0  0\n",
            "  1  0  1  0  0  0  0  0  1  0  0  0 -1  0  0  0 -1  0  0  0  0  0  0  0\n",
            "  0 -1 -1  0  1  0  0  0  0  1  0  0  0  0  0  0  0  0  0  1  1  0  1  0\n",
            "  0  1  0  0  0  0  0  0  1  0  0  0  1 -1  0  0  0  0  0  0  0  0  0  1\n",
            "  0  0 -1  0  0  0  0  0  1  0  0  0  0  0 -1  0  1  0  0  1  0  1  0  0\n",
            "  0  0  1  0  0  0  0  0  0  0  1  0 -1  0  1  0  0  0  0  0  0  1  0  0\n",
            "  0  0  0  0  1  0  1  1  0  0  0  0  0  0  0  0  0  0  0  0  0  0  0  0\n",
            "  0  1  0  0  0  1  1  0  0  0  0  1  0  0  0  0  0  0  0  0  0  0  0  0\n",
            "  0  0  1  0  0 -1  1  0  0  0  0  1  0  0  1  0  0  0  0 -1  0 -1  0  0\n",
            "  0  0  0  0  0  0  1 -1  0  0  0  0  0 -1  0  0  0  0 -1  0  0  0  0  0\n",
            "  0  0  0  0  0  1  0 -1  0  0 -1  0  1  0  1  0  0  0  0  0  0  0  0  0\n",
            "  0  0  0  0  0  0  0  0  1  0  0  0  0  0  0  0  1  1  0  0  0  0  0  0\n",
            "  0  1  0  0  0  1  0  0  0  0  1  0  0  1  0  0  1  0 -1  1  0  0  0  1\n",
            "  0  0  0  0  0]\n"
          ]
        }
      ]
    },
    {
      "cell_type": "code",
      "metadata": {
        "id": "9UWptcDsK9uG",
        "colab": {
          "base_uri": "https://localhost:8080/"
        },
        "outputId": "ef14764c-d388-4bee-963d-0616791e3a01"
      },
      "source": [
        "count = 0\n",
        "#for i in range(len(y_pred)):\n",
        " # if y_pred[i]==y_test[i]:\n",
        "  #  count = count+1\n",
        "\n",
        "        \n",
        "\n",
        "\n",
        "\n",
        "  \n",
        "accuracy = accuracy_score(y_test, y_pred)\n",
        "print(\"Accuracy: %.2f%%\" % (accuracy * 100.0))      \n",
        "#accuracy = count/len(y_pred)\n",
        "#print('accuracy = ' ,accuracy*100 , '%')"
      ],
      "execution_count": null,
      "outputs": [
        {
          "output_type": "stream",
          "name": "stdout",
          "text": [
            "Accuracy: 68.04%\n"
          ]
        }
      ]
    }
  ]
}